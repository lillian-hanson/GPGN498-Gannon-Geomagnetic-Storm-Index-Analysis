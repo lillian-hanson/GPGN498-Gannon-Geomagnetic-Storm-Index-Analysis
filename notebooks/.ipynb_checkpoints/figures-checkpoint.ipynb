{
 "cells": [
  {
   "cell_type": "markdown",
   "id": "7f984187-e34c-48a0-9ad4-3a7d96bb2d7f",
   "metadata": {},
   "source": [
    "### Code/Graphs from Assessment 8"
   ]
  },
  {
   "cell_type": "code",
   "execution_count": 1,
   "id": "7fc1be0f-dc64-4819-b8f8-57bdca6f07d3",
   "metadata": {},
   "outputs": [],
   "source": [
    "import json\n",
    "import numpy as np\n",
    "import matplotlib.pyplot as plt\n",
    "import pandas as pd\n",
    "from datetime import datetime\n",
    "from scipy.signal import welch"
   ]
  },
  {
   "cell_type": "code",
   "execution_count": null,
   "id": "f6c4cf1e-0681-4094-963b-a24cf4f362a5",
   "metadata": {},
   "outputs": [],
   "source": []
  }
 ],
 "metadata": {
  "kernelspec": {
   "display_name": "Python 3 (ipykernel)",
   "language": "python",
   "name": "python3"
  },
  "language_info": {
   "codemirror_mode": {
    "name": "ipython",
    "version": 3
   },
   "file_extension": ".py",
   "mimetype": "text/x-python",
   "name": "python",
   "nbconvert_exporter": "python",
   "pygments_lexer": "ipython3",
   "version": "3.13.2"
  }
 },
 "nbformat": 4,
 "nbformat_minor": 5
}
